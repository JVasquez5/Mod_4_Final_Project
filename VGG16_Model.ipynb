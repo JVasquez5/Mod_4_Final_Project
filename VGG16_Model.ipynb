{
 "cells": [
  {
   "cell_type": "markdown",
   "metadata": {},
   "source": [
    "\n",
    "# Final Project Submission\n",
    "\n",
    "Please fill out:\n",
    "* Student name: Thomas Hill & Jonathan Vasquez\n",
    "* Student pace: Full Time\n",
    "* Scheduled project review date/time: 07/31/2020\n",
    "* Instructor name: Fangfang Lee\n",
    "* Blog post URL:\n"
   ]
  },
  {
   "cell_type": "markdown",
   "metadata": {},
   "source": [
    "# Importing Libraries / Data"
   ]
  },
  {
   "cell_type": "code",
   "execution_count": 1,
   "metadata": {},
   "outputs": [],
   "source": [
    "import numpy as np # linear algebra\n",
    "import pandas as pd # data processing, CSV file I/O (e.g. pd.read_csv)\n",
    "from matplotlib import pyplot as plt #Ploting charts\n",
    "from glob import glob #retriving an array of files in directories\n",
    "import shutil\n",
    "\n",
    "import tensorflow as tf\n",
    "import cv2\n",
    "from sklearn.metrics import confusion_matrix, f1_score, classification_report\n",
    "np.random.seed(123)\n",
    "\n",
    "import keras\n",
    "from keras import models\n",
    "from keras import layers\n",
    "\n",
    "from keras.models import load_model, Sequential #for neural network models\n",
    "from keras.layers import Dense, Dropout, Flatten, ZeroPadding2D, Conv2D, MaxPooling2D\n",
    "from keras.preprocessing.image import ImageDataGenerator #Data augmentation and preprocessing\n",
    "from keras.preprocessing.image import array_to_img, img_to_array, load_img\n",
    "from keras.utils import to_categorical #For One-hot Encoding\n",
    "from keras.optimizers import Adam, SGD, RMSprop #For Optimizing the Neural Network\n",
    "from keras.callbacks import EarlyStopping\n",
    "\n",
    "#bokeh\n",
    "from bokeh.models import ColumnDataSource, HoverTool, Panel, FactorRange\n",
    "from bokeh.plotting import figure\n",
    "from bokeh.io import output_notebook, show, output_file\n",
    "from bokeh.palettes import Spectral6\n",
    "\n",
    "import warnings\n",
    "warnings.filterwarnings('ignore')\n",
    "\n",
    "import os"
   ]
  },
  {
   "cell_type": "code",
   "execution_count": 84,
   "metadata": {},
   "outputs": [
    {
     "name": "stdout",
     "output_type": "stream",
     "text": [
      "['.DS_Store', 'Test', 'working notebook.ipynb', 'chest_xray', 'README.md', '.gitignore', 'Train', '.ipynb_checkpoints', 'sandbox.ipynb', 'Data_Visualization.ipynb', '.git', 'Validation', 'working notebook-Copy1.ipynb']\n"
     ]
    }
   ],
   "source": [
    "print(os.listdir(\"../Mod_4_Final_Project/\"))"
   ]
  },
  {
   "cell_type": "markdown",
   "metadata": {},
   "source": [
    "# Loading Data"
   ]
  },
  {
   "cell_type": "code",
   "execution_count": 14,
   "metadata": {},
   "outputs": [],
   "source": [
    "# setup file structure\n",
    "train_dir = \"Train/\"\n",
    "test_dir = \"Test/\"\n",
    "val_dir = \"Validation/\""
   ]
  },
  {
   "cell_type": "code",
   "execution_count": 63,
   "metadata": {},
   "outputs": [
    {
     "name": "stdout",
     "output_type": "stream",
     "text": [
      "Found 4684 images belonging to 2 classes.\n",
      "Found 587 images belonging to 2 classes.\n",
      "Found 585 images belonging to 2 classes.\n"
     ]
    }
   ],
   "source": [
    "# image preprocessing\n",
    "train_datagen = ImageDataGenerator(rescale = 1./255,\n",
    "                                   zoom_range = 0.2,\n",
    "                                   width_shift_range = 0.1,\n",
    "                                   height_shift_range = 0.1,\n",
    "                                   horizontal_flip = True,\n",
    "                                   rotation_range = 30\n",
    "                                  )\n",
    "val_datagen = ImageDataGenerator(rescale = 1./255)\n",
    "test_datagen = ImageDataGenerator(rescale = 1./255)\n",
    "\n",
    "training_set = train_datagen.flow_from_directory(train_dir,\n",
    "                                                 target_size = (64, 64), \n",
    "                                                 batch_size = 32, \n",
    "                                                 class_mode = \"binary\")\n",
    "validation_generator = val_datagen.flow_from_directory(val_dir,\n",
    "                                          target_size = (64, 64),\n",
    "                                          batch_size = 32,\n",
    "                                          class_mode = 'binary')\n",
    "test_set = test_datagen.flow_from_directory(test_dir,\n",
    "                                            target_size = (64, 64),\n",
    "                                            batch_size = 32,\n",
    "                                            class_mode = 'binary')"
   ]
  },
  {
   "cell_type": "markdown",
   "metadata": {},
   "source": [
    "# VGG16 Model"
   ]
  },
  {
   "cell_type": "code",
   "execution_count": 75,
   "metadata": {},
   "outputs": [],
   "source": [
    "#This is a Convolutional Artificial Neural Network\n",
    "#VGG16 Model\n",
    "model = Sequential()\n",
    "model.add(ZeroPadding2D((1,1),input_shape=(64,64,3)))\n",
    "model.add(Conv2D(64, (3, 3), activation='relu'))\n",
    "model.add(ZeroPadding2D((1,1)))\n",
    "model.add(Conv2D(64, (3, 3), activation='relu'))\n",
    "model.add(MaxPooling2D((2,2), strides=(2,2)))\n",
    "\n",
    "model.add(ZeroPadding2D((1,1)))\n",
    "model.add(Conv2D(128, (3, 3), activation='relu'))\n",
    "model.add(ZeroPadding2D((1,1)))\n",
    "model.add(Conv2D(128, (3, 3), activation='relu'))\n",
    "model.add(MaxPooling2D((2,2), strides=(2,2)))\n",
    "\n",
    "model.add(ZeroPadding2D((1,1)))\n",
    "model.add(Conv2D(256, (3, 3), activation='relu'))\n",
    "model.add(ZeroPadding2D((1,1)))\n",
    "model.add(Conv2D(256, (3, 3), activation='relu'))\n",
    "model.add(ZeroPadding2D((1,1)))\n",
    "model.add(Conv2D(256, (3, 3), activation='relu'))\n",
    "model.add(MaxPooling2D((2,2), strides=(2,2)))\n",
    "\n",
    "model.add(ZeroPadding2D((1,1)))\n",
    "model.add(Conv2D(512, (3, 3), activation='relu'))\n",
    "model.add(ZeroPadding2D((1,1)))\n",
    "model.add(Conv2D(512, (3, 3), activation='relu'))\n",
    "model.add(ZeroPadding2D((1,1)))\n",
    "model.add(Conv2D(512, (3, 3), activation='relu'))\n",
    "model.add(MaxPooling2D((2,2), strides=(2,2)))\n",
    "\n",
    "model.add(ZeroPadding2D((1,1)))\n",
    "model.add(Conv2D(512, (3, 3), activation='relu'))\n",
    "model.add(ZeroPadding2D((1,1)))\n",
    "model.add(Conv2D(512, (3, 3), activation='relu'))\n",
    "model.add(ZeroPadding2D((1,1)))\n",
    "model.add(Conv2D(512, (3, 3), activation='relu'))\n",
    "model.add(MaxPooling2D((2,2), strides=(2,2)))\n",
    "\n",
    "model.add(Flatten())\n",
    "model.add(Dense(4096, activation='relu'))\n",
    "model.add(Dense(4096, activation='relu'))\n",
    "model.add(Dense(1, activation='sigmoid'))"
   ]
  },
  {
   "cell_type": "code",
   "execution_count": 76,
   "metadata": {},
   "outputs": [
    {
     "name": "stdout",
     "output_type": "stream",
     "text": [
      "Model: \"sequential_5\"\n",
      "_________________________________________________________________\n",
      "Layer (type)                 Output Shape              Param #   \n",
      "=================================================================\n",
      "zero_padding2d_52 (ZeroPaddi (None, 66, 66, 3)         0         \n",
      "_________________________________________________________________\n",
      "conv2d_54 (Conv2D)           (None, 64, 64, 64)        1792      \n",
      "_________________________________________________________________\n",
      "zero_padding2d_53 (ZeroPaddi (None, 66, 66, 64)        0         \n",
      "_________________________________________________________________\n",
      "conv2d_55 (Conv2D)           (None, 64, 64, 64)        36928     \n",
      "_________________________________________________________________\n",
      "max_pooling2d_22 (MaxPooling (None, 32, 32, 64)        0         \n",
      "_________________________________________________________________\n",
      "zero_padding2d_54 (ZeroPaddi (None, 34, 34, 64)        0         \n",
      "_________________________________________________________________\n",
      "conv2d_56 (Conv2D)           (None, 32, 32, 128)       73856     \n",
      "_________________________________________________________________\n",
      "zero_padding2d_55 (ZeroPaddi (None, 34, 34, 128)       0         \n",
      "_________________________________________________________________\n",
      "conv2d_57 (Conv2D)           (None, 32, 32, 128)       147584    \n",
      "_________________________________________________________________\n",
      "max_pooling2d_23 (MaxPooling (None, 16, 16, 128)       0         \n",
      "_________________________________________________________________\n",
      "zero_padding2d_56 (ZeroPaddi (None, 18, 18, 128)       0         \n",
      "_________________________________________________________________\n",
      "conv2d_58 (Conv2D)           (None, 16, 16, 256)       295168    \n",
      "_________________________________________________________________\n",
      "zero_padding2d_57 (ZeroPaddi (None, 18, 18, 256)       0         \n",
      "_________________________________________________________________\n",
      "conv2d_59 (Conv2D)           (None, 16, 16, 256)       590080    \n",
      "_________________________________________________________________\n",
      "zero_padding2d_58 (ZeroPaddi (None, 18, 18, 256)       0         \n",
      "_________________________________________________________________\n",
      "conv2d_60 (Conv2D)           (None, 16, 16, 256)       590080    \n",
      "_________________________________________________________________\n",
      "max_pooling2d_24 (MaxPooling (None, 8, 8, 256)         0         \n",
      "_________________________________________________________________\n",
      "zero_padding2d_59 (ZeroPaddi (None, 10, 10, 256)       0         \n",
      "_________________________________________________________________\n",
      "conv2d_61 (Conv2D)           (None, 8, 8, 512)         1180160   \n",
      "_________________________________________________________________\n",
      "zero_padding2d_60 (ZeroPaddi (None, 10, 10, 512)       0         \n",
      "_________________________________________________________________\n",
      "conv2d_62 (Conv2D)           (None, 8, 8, 512)         2359808   \n",
      "_________________________________________________________________\n",
      "zero_padding2d_61 (ZeroPaddi (None, 10, 10, 512)       0         \n",
      "_________________________________________________________________\n",
      "conv2d_63 (Conv2D)           (None, 8, 8, 512)         2359808   \n",
      "_________________________________________________________________\n",
      "max_pooling2d_25 (MaxPooling (None, 4, 4, 512)         0         \n",
      "_________________________________________________________________\n",
      "zero_padding2d_62 (ZeroPaddi (None, 6, 6, 512)         0         \n",
      "_________________________________________________________________\n",
      "conv2d_64 (Conv2D)           (None, 4, 4, 512)         2359808   \n",
      "_________________________________________________________________\n",
      "zero_padding2d_63 (ZeroPaddi (None, 6, 6, 512)         0         \n",
      "_________________________________________________________________\n",
      "conv2d_65 (Conv2D)           (None, 4, 4, 512)         2359808   \n",
      "_________________________________________________________________\n",
      "zero_padding2d_64 (ZeroPaddi (None, 6, 6, 512)         0         \n",
      "_________________________________________________________________\n",
      "conv2d_66 (Conv2D)           (None, 4, 4, 512)         2359808   \n",
      "_________________________________________________________________\n",
      "max_pooling2d_26 (MaxPooling (None, 2, 2, 512)         0         \n",
      "_________________________________________________________________\n",
      "flatten_5 (Flatten)          (None, 2048)              0         \n",
      "_________________________________________________________________\n",
      "dense_14 (Dense)             (None, 4096)              8392704   \n",
      "_________________________________________________________________\n",
      "dense_15 (Dense)             (None, 4096)              16781312  \n",
      "_________________________________________________________________\n",
      "dense_16 (Dense)             (None, 1)                 4097      \n",
      "=================================================================\n",
      "Total params: 39,892,801\n",
      "Trainable params: 39,892,801\n",
      "Non-trainable params: 0\n",
      "_________________________________________________________________\n"
     ]
    }
   ],
   "source": [
    "model.summary()"
   ]
  },
  {
   "cell_type": "code",
   "execution_count": 77,
   "metadata": {},
   "outputs": [
    {
     "name": "stdout",
     "output_type": "stream",
     "text": [
      "Epoch 1/50\n",
      "147/147 [==============================] - 226s 2s/step - loss: 0.5632 - accuracy: 0.7265 - precision: 0.7296 - recall: 0.9933 - val_loss: 0.4686 - val_accuracy: 0.7291 - val_precision: 0.7291 - val_recall: 1.0000\n",
      "Epoch 2/50\n",
      "147/147 [==============================] - 226s 2s/step - loss: 0.4186 - accuracy: 0.7980 - precision: 0.8263 - recall: 0.9157 - val_loss: 0.3577 - val_accuracy: 0.8569 - val_precision: 0.8454 - val_recall: 0.9836\n",
      "Epoch 3/50\n",
      "147/147 [==============================] - 225s 2s/step - loss: 0.3049 - accuracy: 0.8678 - precision: 0.8997 - recall: 0.9216 - val_loss: 0.2915 - val_accuracy: 0.8927 - val_precision: 0.9176 - val_recall: 0.9369\n",
      "Epoch 4/50\n",
      "147/147 [==============================] - 225s 2s/step - loss: 0.2390 - accuracy: 0.9037 - precision: 0.9370 - recall: 0.9307 - val_loss: 0.4134 - val_accuracy: 0.7939 - val_precision: 0.9723 - val_recall: 0.7383\n",
      "Epoch 5/50\n",
      "147/147 [==============================] - 226s 2s/step - loss: 0.2260 - accuracy: 0.9041 - precision: 0.9391 - recall: 0.9289 - val_loss: 0.2623 - val_accuracy: 0.9012 - val_precision: 0.9405 - val_recall: 0.9229\n",
      "Epoch 6/50\n",
      "147/147 [==============================] - 230s 2s/step - loss: 0.1965 - accuracy: 0.9253 - precision: 0.9493 - recall: 0.9482 - val_loss: 0.4450 - val_accuracy: 0.8944 - val_precision: 0.9013 - val_recall: 0.9603\n",
      "Epoch 7/50\n",
      "147/147 [==============================] - 235s 2s/step - loss: 0.1892 - accuracy: 0.9253 - precision: 0.9491 - recall: 0.9485 - val_loss: 0.2734 - val_accuracy: 0.8978 - val_precision: 0.9017 - val_recall: 0.9650\n",
      "Epoch 8/50\n",
      "147/147 [==============================] - 226s 2s/step - loss: 0.1748 - accuracy: 0.9266 - precision: 0.9481 - recall: 0.9514 - val_loss: 0.2993 - val_accuracy: 0.8722 - val_precision: 0.9584 - val_recall: 0.8621\n",
      "Epoch 00008: early stopping\n",
      "147/147 [==============================] - 78s 528ms/step\n"
     ]
    }
   ],
   "source": [
    "optimizer = Adam(lr = 0.0001)\n",
    "early_stopping_monitor = EarlyStopping(patience = 3, monitor = \"val_accuracy\", mode=\"max\", verbose = 1)\n",
    "model.compile(loss='binary_crossentropy', metrics=['accuracy', tf.keras.metrics.Precision(name='precision'), \n",
    "                                                   tf.keras.metrics.Recall(name='recall')], optimizer=optimizer)\n",
    "history = model.fit(training_set, epochs=50, callbacks=[early_stopping_monitor], shuffle=True, \n",
    "                              validation_data=validation_generator, steps_per_epoch=None, verbose=1)\n",
    "prediction = model.predict(training_set, verbose=1, steps=None)"
   ]
  },
  {
   "cell_type": "code",
   "execution_count": 78,
   "metadata": {},
   "outputs": [
    {
     "name": "stdout",
     "output_type": "stream",
     "text": [
      "19/19 [==============================] - 7s 389ms/step - loss: 0.3332 - accuracy: 0.8479 - precision: 0.9694 - recall: 0.8173\n"
     ]
    }
   ],
   "source": [
    "test_accu_VGG16 = model.evaluate(test_set)"
   ]
  },
  {
   "cell_type": "code",
   "execution_count": 79,
   "metadata": {},
   "outputs": [
    {
     "data": {
      "image/png": "[encoded data removed]",
      "text/plain": [
       "<Figure size 432x288 with 1 Axes>"
      ]
     },
     "metadata": {
      "needs_background": "light"
     },
     "output_type": "display_data"
    }
   ],
   "source": [
    "# summarize history for accuracy\n",
    "plt.plot(history.history['accuracy'])\n",
    "plt.plot(history.history['val_accuracy'])\n",
    "plt.title('model accuracy')\n",
    "plt.ylabel('accuracy')\n",
    "plt.xlabel('epoch')\n",
    "plt.legend(['train', 'val'], loc='best')\n",
    "plt.show()"
   ]
  },
  {
   "cell_type": "code",
   "execution_count": 80,
   "metadata": {},
   "outputs": [
    {
     "data": {
      "image/png": "[encoded data removed]",
      "text/plain": [
       "<Figure size 432x288 with 1 Axes>"
      ]
     },
     "metadata": {
      "needs_background": "light"
     },
     "output_type": "display_data"
    }
   ],
   "source": [
    "plt.plot(history.history['loss'])\n",
    "plt.plot(history.history['val_loss'])\n",
    "plt.title('model loss')\n",
    "plt.ylabel('loss')\n",
    "plt.xlabel('epoch')\n",
    "plt.legend(['train', 'val'], loc='best')\n",
    "plt.show()"
   ]
  },
  {
   "cell_type": "code",
   "execution_count": 81,
   "metadata": {},
   "outputs": [],
   "source": [
    "import itertools\n",
    "def plot_confusion_matrix(cm, classes,\n",
    "                          normalize=False,\n",
    "                          title='Confusion matrix',\n",
    "                          cmap=plt.cm.Blues):\n",
    "    \"\"\"\n",
    "    This function prints and plots the confusion matrix.\n",
    "    Normalization can be applied by setting `normalize=True`.\n",
    "    \"\"\"\n",
    "    if normalize:\n",
    "        cm = cm.astype('float') / cm.sum(axis=1)[:, np.newaxis]\n",
    "        print(\"Normalized confusion matrix\")\n",
    "    else:\n",
    "        print('Confusion matrix, without normalization')\n",
    "    print(cm)\n",
    "    plt.imshow(cm, interpolation='nearest', cmap=cmap)\n",
    "    plt.title(title)\n",
    "    plt.colorbar()\n",
    "    tick_marks = np.arange(len(classes))\n",
    "    plt.xticks(tick_marks, classes, rotation=45)\n",
    "    plt.yticks(tick_marks, classes)\n",
    "    fmt = '.2f' if normalize else 'd'\n",
    "    thresh = cm.max() / 2.\n",
    "    for i, j in itertools.product(range(cm.shape[0]), range(cm.shape[1])):\n",
    "        plt.text(j, i, format(cm[i, j], fmt),\n",
    "                 horizontalalignment=\"center\",\n",
    "                 color=\"white\" if cm[i, j] > thresh else \"black\")\n",
    "    plt.ylabel('True label')\n",
    "    plt.xlabel('Predicted label')\n",
    "    plt.tight_layout()"
   ]
  },
  {
   "cell_type": "code",
   "execution_count": 82,
   "metadata": {},
   "outputs": [
    {
     "data": {
      "text/plain": [
       "array([[ 64,  94],\n",
       "       [161, 266]])"
      ]
     },
     "execution_count": 82,
     "metadata": {},
     "output_type": "execute_result"
    }
   ],
   "source": [
    "Y_pred_base = model.predict(test_set)\n",
    "Y_pred_concat = np.concatenate(Y_pred_base)\n",
    "y_pred = np.where(Y_pred_concat > 0.5, 1, 0)\n",
    "confusion_matrix(test_set.classes, y_pred)"
   ]
  },
  {
   "cell_type": "code",
   "execution_count": 83,
   "metadata": {},
   "outputs": [
    {
     "name": "stdout",
     "output_type": "stream",
     "text": [
      "Confusion matrix, without normalization\n",
      "[[ 64  94]\n",
      " [161 266]]\n"
     ]
    },
    {
     "data": {
      "image/png": "[encoded data removed]",
      "text/plain": [
       "<Figure size 432x288 with 2 Axes>"
      ]
     },
     "metadata": {
      "needs_background": "light"
     },
     "output_type": "display_data"
    }
   ],
   "source": [
    "plt.figure()\n",
    "plot_confusion_matrix(confusion_matrix(test_set.classes, y_pred), classes=['pneumonia', 'not pneumonia, dog'], normalize=False,\n",
    "                      title='Confusion matrix')"
   ]
  },
  {
   "cell_type": "code",
   "execution_count": null,
   "metadata": {},
   "outputs": [],
   "source": []
  }
 ],
 "metadata": {
  "kernelspec": {
   "display_name": "Python 3",
   "language": "python",
   "name": "python3"
  },
  "language_info": {
   "codemirror_mode": {
    "name": "ipython",
    "version": 3
   },
   "file_extension": ".py",
   "mimetype": "text/x-python",
   "name": "python",
   "nbconvert_exporter": "python",
   "pygments_lexer": "ipython3",
   "version": "3.7.6"
  }
 },
 "nbformat": 4,
 "nbformat_minor": 4
}
